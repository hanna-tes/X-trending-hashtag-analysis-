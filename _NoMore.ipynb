{
  "cells": [
    {
      "cell_type": "code",
      "execution_count": null,
      "metadata": {
        "id": "61IkARWOaL5R",
        "outputId": "3cd8de2a-64f2-4732-89fb-6bce26f86353"
      },
      "outputs": [
        {
          "data": {
            "text/html": [
              "<style type='text/css'>\n",
              ".datatable table.frame { margin-bottom: 0; }\n",
              ".datatable table.frame thead { border-bottom: none; }\n",
              ".datatable table.frame tr.coltypes td {  color: #FFFFFF;  line-height: 6px;  padding: 0 0.5em;}\n",
              ".datatable .bool    { background: #DDDD99; }\n",
              ".datatable .object  { background: #565656; }\n",
              ".datatable .int     { background: #5D9E5D; }\n",
              ".datatable .float   { background: #4040CC; }\n",
              ".datatable .str     { background: #CC4040; }\n",
              ".datatable .time    { background: #40CC40; }\n",
              ".datatable .row_index {  background: var(--jp-border-color3);  border-right: 1px solid var(--jp-border-color0);  color: var(--jp-ui-font-color3);  font-size: 9px;}\n",
              ".datatable .frame tbody td { text-align: left; }\n",
              ".datatable .frame tr.coltypes .row_index {  background: var(--jp-border-color0);}\n",
              ".datatable th:nth-child(2) { padding-left: 12px; }\n",
              ".datatable .hellipsis {  color: var(--jp-cell-editor-border-color);}\n",
              ".datatable .vellipsis {  background: var(--jp-layout-color0);  color: var(--jp-cell-editor-border-color);}\n",
              ".datatable .na {  color: var(--jp-cell-editor-border-color);  font-size: 80%;}\n",
              ".datatable .sp {  opacity: 0.25;}\n",
              ".datatable .footer { font-size: 9px; }\n",
              ".datatable .frame_dimensions {  background: var(--jp-border-color3);  border-top: 1px solid var(--jp-border-color0);  color: var(--jp-ui-font-color3);  display: inline-block;  opacity: 0.6;  padding: 1px 10px 1px 5px;}\n",
              "</style>\n"
            ],
            "text/plain": [
              "<IPython.core.display.HTML object>"
            ]
          },
          "metadata": {},
          "output_type": "display_data"
        }
      ],
      "source": [
        "#import relevant Libraries or access Keys\n",
        "import numpy as np\n",
        "import pandas as pd\n",
        "import matplotlib.pyplot as plt\n",
        "import altair as alt\n",
        "import seaborn as sns\n",
        "import difflib\n",
        "import os\n",
        "from sklearn.metrics import silhouette_score\n",
        "from sklearn.cluster import KMeans\n",
        "from sklearn.preprocessing import StandardScaler\n",
        "import coordination_network_toolkit as coord_net_tk\n",
        "import networkx as nx\n",
        "from langdetect import detect\n",
        "import nltk\n",
        "from nltk.sentiment.vader import SentimentIntensityAnalyzer\n",
        "from nltk.collocations import*\n",
        "from nltk import word_tokenize\n",
        "from nltk import bigrams\n",
        "from nltk.corpus import stopwords\n",
        "from nltk.tokenize import TweetTokenizer, word_tokenize, TweetTokenizer\n",
        "from nltk.tag import StanfordNERTagger\n",
        "from nltk.stem import WordNetLemmatizer\n",
        "from sentence_transformers import SentenceTransformer\n",
        "from sklearn.metrics.pairwise import cosine_similarity\n",
        "import string\n",
        "import PyCrowdTangle as pct\n",
        "import re\n",
        "from stop_words import get_stop_words\n",
        "from wordcloud import WordCloud, STOPWORDS\n",
        "from ProText import gen, low, dig,stopw, lemma, stem, spell, clean_len, WCloud, countvec, tfidf\n",
        "import gensim\n",
        "#import gsdmm\n",
        "from newscatcher import Newscatcher, urls, describe_url\n",
        "import glob\n",
        "import time"
      ],
      "id": "61IkARWOaL5R"
    },
    {
      "cell_type": "code",
      "execution_count": null,
      "metadata": {
        "id": "URp1fkxBaL5k"
      },
      "outputs": [],
      "source": [
        "#pip install dask"
      ],
      "id": "URp1fkxBaL5k"
    },
    {
      "cell_type": "code",
      "execution_count": null,
      "metadata": {
        "id": "5teNNMJYaL5m"
      },
      "outputs": [],
      "source": [
        "data= pd.read_csv(\"C:\\xx\\nomore-novjan-combined.csv\", low_memory=False)"
      ],
      "id": "5teNNMJYaL5m"
    },
    {
      "cell_type": "code",
      "execution_count": null,
      "metadata": {
        "id": "91xfh4wXaL5o"
      },
      "outputs": [],
      "source": [
        "data.shape"
      ],
      "id": "91xfh4wXaL5o"
    },
    {
      "cell_type": "code",
      "execution_count": null,
      "metadata": {
        "id": "d_7wjXCEaL5p"
      },
      "outputs": [],
      "source": [
        "data.columns"
      ],
      "id": "d_7wjXCEaL5p"
    },
    {
      "cell_type": "code",
      "execution_count": null,
      "metadata": {
        "id": "-0Mw370haL5r"
      },
      "outputs": [],
      "source": [
        "data.tail(5)"
      ],
      "id": "-0Mw370haL5r"
    },
    {
      "cell_type": "code",
      "execution_count": null,
      "metadata": {
        "id": "DH1Cj-GmaL5t"
      },
      "outputs": [],
      "source": [
        "# Make a copy of my dataset\n",
        "data=data.copy()"
      ],
      "id": "DH1Cj-GmaL5t"
    },
    {
      "cell_type": "code",
      "execution_count": null,
      "metadata": {
        "id": "gWkd9j6LaL5y"
      },
      "outputs": [],
      "source": [
        "data.rename(columns={'Hit Sentence' :'tweet'},inplace=True)"
      ],
      "id": "gWkd9j6LaL5y"
    },
    {
      "cell_type": "code",
      "execution_count": null,
      "metadata": {
        "id": "JKuDlzFuaL52"
      },
      "outputs": [],
      "source": [
        "#Extract tweets by language\n",
        "amh_tweets=(data.loc[data['Language'] == 'Amharic'])\n",
        "amh_tweets"
      ],
      "id": "JKuDlzFuaL52"
    },
    {
      "cell_type": "code",
      "execution_count": null,
      "metadata": {
        "id": "PHejXfK5aL57"
      },
      "outputs": [],
      "source": [
        "#Save Amharic tweets to local device\n",
        "#amh_tweets.to_csv('amharic_tweets.csv')"
      ],
      "id": "PHejXfK5aL57"
    },
    {
      "cell_type": "code",
      "execution_count": null,
      "metadata": {
        "id": "d6CXuuKyaL5-"
      },
      "outputs": [],
      "source": [
        "#Count variable for counting and graph purposes\n",
        "for i in range(data.shape[0]):\n",
        "    data.loc[i, 'Count']=1"
      ],
      "id": "d6CXuuKyaL5-"
    },
    {
      "cell_type": "code",
      "execution_count": null,
      "metadata": {
        "id": "44cmNWzmaL5_",
        "outputId": "e84abd3a-19a3-43fe-9e50-18ee95e39071"
      },
      "outputs": [
        {
          "data": {
            "image/png": "[encoded data removed]",
            "text/plain": [
              "<Figure size 432x360 with 1 Axes>"
            ]
          },
          "metadata": {
            "needs_background": "light"
          },
          "output_type": "display_data"
        }
      ],
      "source": [
        "#plot number of records of sentiments\n",
        "plt.figure(figsize=(6,5))\n",
        "plt.title(\"Number of records of sentiments\")\n",
        "plot = sns.countplot(x = 'Sentiment', data=data)\n",
        "for p in plot.patches:\n",
        "    plot.annotate(p.get_height(),(p.get_x()+0.1 ,p.get_height()+50))\n"
      ],
      "id": "44cmNWzmaL5_"
    },
    {
      "cell_type": "code",
      "execution_count": null,
      "metadata": {
        "id": "9apk9vt7aL6B"
      },
      "outputs": [],
      "source": [
        "#Extract tweets by location\n",
        "ch_tweets=(data.loc[data['Country'] == \"China\"])\n",
        "ch_tweets"
      ],
      "id": "9apk9vt7aL6B"
    },
    {
      "cell_type": "code",
      "execution_count": null,
      "metadata": {
        "id": "H7XPDIiTaL6C"
      },
      "outputs": [],
      "source": [
        "#Checking for Days with highest tweet activity\n",
        "spikerecord=data.pivot_table(values=['counter'], index='Alternate Date Format', aggfunc=np.sum).reset_index().sort_values('counter', ascending=False).head(20)\n",
        "alt.Chart(data_Ls).mark_bar().encode(x='Alternate Date Format:N', y=alt.Y('counter', sort='-x'), color='Alternate Date Format', tooltip=['Alternate Date Format']).interactive()"
      ],
      "id": "H7XPDIiTaL6C"
    },
    {
      "cell_type": "code",
      "execution_count": null,
      "metadata": {
        "id": "j-ZoAccZaL6D"
      },
      "outputs": [],
      "source": [
        "#Extract retweets\n",
        "Retweeted=data['tweet'].str.extract(r'(RT @\\w+)')"
      ],
      "id": "j-ZoAccZaL6D"
    },
    {
      "cell_type": "code",
      "execution_count": null,
      "metadata": {
        "id": "jfemvB-7aL6D"
      },
      "outputs": [],
      "source": [
        "# Store the source of retweeted posts\n",
        "data['source'] = Retweeted"
      ],
      "id": "jfemvB-7aL6D"
    },
    {
      "cell_type": "code",
      "execution_count": null,
      "metadata": {
        "id": "rS6LQuKDaL6E"
      },
      "outputs": [],
      "source": [
        "#Display top retweeted accounts: The accounts that recieved the most number of retweets\n",
        "data['source'].value_counts()[:20]"
      ],
      "id": "rS6LQuKDaL6E"
    },
    {
      "cell_type": "code",
      "execution_count": null,
      "metadata": {
        "id": "EeRb7CY6aL6G"
      },
      "outputs": [],
      "source": [
        "#sources(accounts) that recived more than 1000k retweets\n",
        "source=data['source'].value_counts().loc[lambda x: x>1000]"
      ],
      "id": "EeRb7CY6aL6G"
    },
    {
      "cell_type": "code",
      "execution_count": null,
      "metadata": {
        "id": "72K9Dk-TaL6G",
        "outputId": "14fbbcb3-52a7-444b-ba6f-635d713afde2"
      },
      "outputs": [
        {
          "data": {
            "text/plain": [
              "(757,)"
            ]
          },
          "execution_count": 16,
          "metadata": {},
          "output_type": "execute_result"
        }
      ],
      "source": [
        "#we have 757 accounts that recived the most number of retweets\n",
        "source.shape"
      ],
      "id": "72K9Dk-TaL6G"
    },
    {
      "cell_type": "code",
      "execution_count": null,
      "metadata": {
        "id": "05JyBNtraL6H"
      },
      "outputs": [],
      "source": [
        "#Plot top 20 accounts\n",
        "source[:20].plot(kind='barh')"
      ],
      "id": "05JyBNtraL6H"
    },
    {
      "cell_type": "code",
      "execution_count": null,
      "metadata": {
        "id": "qYLiFOLiaL6H"
      },
      "outputs": [],
      "source": [
        "#top 10 accounts\n",
        "source.head(20)"
      ],
      "id": "qYLiFOLiaL6H"
    },
    {
      "cell_type": "code",
      "execution_count": null,
      "metadata": {
        "id": "k2TSogzHaL6J"
      },
      "outputs": [],
      "source": [
        "data['source'] = data['source'].str.replace('RT @', '')"
      ],
      "id": "k2TSogzHaL6J"
    },
    {
      "cell_type": "code",
      "execution_count": null,
      "metadata": {
        "id": "bVFHjv7PaL6L"
      },
      "outputs": [],
      "source": [
        "# Top retweeted posts and counts of retweets\n",
        "pd.options.display.max_colwidth = 200\n",
        "data['tweet'].value_counts().rename_axis('Tweets').reset_index(name='counts')[:20]"
      ],
      "id": "bVFHjv7PaL6L"
    },
    {
      "cell_type": "code",
      "execution_count": null,
      "metadata": {
        "id": "ZCRLrEKUaL6M"
      },
      "outputs": [],
      "source": [
        "#Count variable for counting and graph purposes\n",
        "for i in range(data.shape[0]):\n",
        "    data.loc[i, 'Count']=1"
      ],
      "id": "ZCRLrEKUaL6M"
    },
    {
      "cell_type": "code",
      "execution_count": null,
      "metadata": {
        "id": "e6wtwEM5aL6N"
      },
      "outputs": [],
      "source": [
        "# Top 10 tweets with high number of Total Interactions\n",
        "data_Ls=data.pivot_table(values=['Engagement'],index='tweet', aggfunc=np.sum).reset_index().sort_values('Engagement', ascending=False).head(10)\n",
        "alt.Chart(data_Ls).mark_bar().encode(x='Engagement', y=alt.Y('tweet:N', sort='-x'), color='tweet', tooltip=['tweet']).interactive()"
      ],
      "id": "e6wtwEM5aL6N"
    },
    {
      "cell_type": "code",
      "execution_count": null,
      "metadata": {
        "id": "GLnaeOyTaL6N"
      },
      "outputs": [],
      "source": [
        "#get tweets from an account\n",
        "xx = data[data['source'].isin(['xx'])]"
      ],
      "id": "GLnaeOyTaL6N"
    },
    {
      "cell_type": "code",
      "execution_count": null,
      "metadata": {
        "scrolled": true,
        "id": "qfzHNKhyaL6O"
      },
      "outputs": [],
      "source": [
        "pd.options.display.max_colwidth = 200\n",
        "xx['tweet'].value_counts().rename_axis('Tweets').reset_index(name='counts')"
      ],
      "id": "qfzHNKhyaL6O"
    },
    {
      "cell_type": "code",
      "execution_count": null,
      "metadata": {
        "scrolled": true,
        "id": "7W5LvZ20aL6P"
      },
      "outputs": [],
      "source": [
        "# Top 20 posts from the account with high number of total interactions\n",
        "data_Ls=xx.pivot_table(values=['Reach'], index='tweet', aggfunc=np.sum).reset_index().sort_values('Reach', ascending=False).head(20)\n",
        "alt.Chart(data_Ls).mark_bar().encode(x='Reach', y=alt.Y('tweet:N', sort='-x'), color='tweet', tooltip=['tweet']).interactive()"
      ],
      "id": "7W5LvZ20aL6P"
    },
    {
      "cell_type": "code",
      "execution_count": null,
      "metadata": {
        "id": "6DnmswmUaL7f"
      },
      "outputs": [],
      "source": [
        "#Most retweeted posts with their source and the retweeter account\n",
        "most_retweeted= data[['tweet','source','Influencer']]"
      ],
      "id": "6DnmswmUaL7f"
    },
    {
      "cell_type": "code",
      "execution_count": null,
      "metadata": {
        "id": "Airr_UwWaL7g"
      },
      "outputs": [],
      "source": [
        "most_retweeted.head(5)"
      ],
      "id": "Airr_UwWaL7g"
    },
    {
      "cell_type": "code",
      "execution_count": null,
      "metadata": {
        "id": "PWukcFAYaL7g"
      },
      "outputs": [],
      "source": [
        "#get retweets\n",
        "RT = data[data['tweet'].str.startswith(\"RT\", na=False)]"
      ],
      "id": "PWukcFAYaL7g"
    },
    {
      "cell_type": "code",
      "execution_count": null,
      "metadata": {
        "id": "eRx0AFbiaL7g",
        "outputId": "f1f5a7da-8505-4fcd-fa80-e879ba3411f7"
      },
      "outputs": [
        {
          "data": {
            "text/plain": [
              "(1394799, 37)"
            ]
          },
          "execution_count": 11,
          "metadata": {},
          "output_type": "execute_result"
        }
      ],
      "source": [
        "RT.shape"
      ],
      "id": "eRx0AFbiaL7g"
    },
    {
      "cell_type": "code",
      "execution_count": null,
      "metadata": {
        "id": "pBI_H0XZaL7g",
        "outputId": "fe80ae02-e897-4632-cffa-d86932cedf9b"
      },
      "outputs": [
        {
          "data": {
            "text/plain": [
              "93416"
            ]
          },
          "execution_count": 12,
          "metadata": {},
          "output_type": "execute_result"
        }
      ],
      "source": [
        "RT['Influencer'].nunique()"
      ],
      "id": "pBI_H0XZaL7g"
    },
    {
      "cell_type": "code",
      "execution_count": null,
      "metadata": {
        "id": "z1BPSkHzaL7h"
      },
      "outputs": [],
      "source": [
        "RT['Influencer'].value_counts()"
      ],
      "id": "z1BPSkHzaL7h"
    },
    {
      "cell_type": "code",
      "execution_count": null,
      "metadata": {
        "id": "bAA9L5N2aL7h"
      },
      "outputs": [],
      "source": [
        "#retweets with their original source of tweet\n",
        "RT.head(5)"
      ],
      "id": "bAA9L5N2aL7h"
    },
    {
      "cell_type": "code",
      "execution_count": null,
      "metadata": {
        "id": "3DYxlrzMaL7i"
      },
      "outputs": [],
      "source": [
        "#influencer who retweets the most\n",
        "RT['Influencer'].value_counts()[:20]"
      ],
      "id": "3DYxlrzMaL7i"
    },
    {
      "cell_type": "code",
      "execution_count": null,
      "metadata": {
        "id": "zqY_K3b2aL7i"
      },
      "outputs": [],
      "source": [
        "#accounts retweeted more than 80 times\n",
        "rt=RT['Influencer'].value_counts().loc[lambda x: x>80]"
      ],
      "id": "zqY_K3b2aL7i"
    },
    {
      "cell_type": "code",
      "execution_count": null,
      "metadata": {
        "id": "14cXZny2aL7j",
        "outputId": "ac45ae68-1957-42b2-f84a-bfe499baf454"
      },
      "outputs": [
        {
          "data": {
            "text/plain": [
              "(3372,)"
            ]
          },
          "execution_count": 21,
          "metadata": {},
          "output_type": "execute_result"
        }
      ],
      "source": [
        "#we have 59 accounts retweeting more than 80 times\n",
        "rt.shape"
      ],
      "id": "14cXZny2aL7j"
    },
    {
      "cell_type": "code",
      "execution_count": null,
      "metadata": {
        "id": "jgIM-OOSaL7j",
        "outputId": "7c0d70a6-7b6c-4efa-eec8-705e7c850eeb"
      },
      "outputs": [
        {
          "data": {
            "text/plain": [
              "557"
            ]
          },
          "execution_count": 22,
          "metadata": {},
          "output_type": "execute_result"
        }
      ],
      "source": [
        "rt.nunique()"
      ],
      "id": "jgIM-OOSaL7j"
    },
    {
      "cell_type": "code",
      "execution_count": null,
      "metadata": {
        "id": "207bOyxraL7k"
      },
      "outputs": [],
      "source": [],
      "id": "207bOyxraL7k"
    },
    {
      "cell_type": "code",
      "execution_count": null,
      "metadata": {
        "id": "kxmExQsLaL7k",
        "outputId": "8b1fde73-40f2-48aa-e460-b8bbcce85f6f"
      },
      "outputs": [
        {
          "data": {
            "text/plain": [
              "741179"
            ]
          },
          "execution_count": 48,
          "metadata": {},
          "output_type": "execute_result"
        }
      ],
      "source": [
        "rt.sum()"
      ],
      "id": "kxmExQsLaL7k"
    },
    {
      "cell_type": "code",
      "execution_count": null,
      "metadata": {
        "id": "Jnkhl-dcaL7k",
        "outputId": "143784df-f6d2-4177-a6a7-b3f7a2f2628c"
      },
      "outputs": [
        {
          "data": {
            "text/plain": [
              "0.5313876766473162"
            ]
          },
          "execution_count": 49,
          "metadata": {},
          "output_type": "execute_result"
        }
      ],
      "source": [
        "# percent of total rewteet network\n",
        "rt.sum()/RT.shape[0]"
      ],
      "id": "Jnkhl-dcaL7k"
    },
    {
      "cell_type": "code",
      "execution_count": null,
      "metadata": {
        "id": "OylOVUI2aL7l",
        "outputId": "87920c9a-9ef5-49aa-9b58-ffe833dae5ea"
      },
      "outputs": [
        {
          "data": {
            "text/plain": [
              "0.005962576004110645"
            ]
          },
          "execution_count": 53,
          "metadata": {},
          "output_type": "execute_result"
        }
      ],
      "source": [
        "# percent of unique accounts\n",
        "rt.nunique()/RT['Influencer'].nunique()"
      ],
      "id": "OylOVUI2aL7l"
    },
    {
      "cell_type": "code",
      "execution_count": null,
      "metadata": {
        "id": "0RQamyeWaL7m"
      },
      "outputs": [],
      "source": [
        "rt.head(59)# all of this accounts were bot accounts they have 100 to 60% bot indication"
      ],
      "id": "0RQamyeWaL7m"
    },
    {
      "cell_type": "code",
      "execution_count": null,
      "metadata": {
        "id": "u2BJnmj1aL7m"
      },
      "outputs": [],
      "source": [
        "#plot top 20 accounts\n",
        "rt[:20].plot(kind='barh',color='green')"
      ],
      "id": "u2BJnmj1aL7m"
    },
    {
      "cell_type": "code",
      "execution_count": null,
      "metadata": {
        "id": "4vO7qawJaL7s"
      },
      "outputs": [],
      "source": [
        "#get original tweets\n",
        "original=data[~data['tweet'].str.contains('RT')]"
      ],
      "id": "4vO7qawJaL7s"
    },
    {
      "cell_type": "code",
      "execution_count": null,
      "metadata": {
        "id": "MRVwwfrgaL7v",
        "outputId": "f0f13e44-394c-4c8d-88e2-5ed3231eee67"
      },
      "outputs": [
        {
          "data": {
            "text/plain": [
              "(353145, 38)"
            ]
          },
          "execution_count": 11,
          "metadata": {},
          "output_type": "execute_result"
        }
      ],
      "source": [
        "original.shape"
      ],
      "id": "MRVwwfrgaL7v"
    },
    {
      "cell_type": "code",
      "execution_count": null,
      "metadata": {
        "id": "LLpEgtgkaL7w",
        "outputId": "7bcc1c52-4084-40af-8a3a-07529a037bb9"
      },
      "outputs": [
        {
          "data": {
            "text/plain": [
              "36352"
            ]
          },
          "execution_count": 12,
          "metadata": {},
          "output_type": "execute_result"
        }
      ],
      "source": [
        "# Unique accounts\n",
        "original['Influencer'].nunique()"
      ],
      "id": "LLpEgtgkaL7w"
    },
    {
      "cell_type": "code",
      "execution_count": null,
      "metadata": {
        "id": "DrgPMduoaL7w"
      },
      "outputs": [],
      "source": [
        "original['Influencer'].value_counts()"
      ],
      "id": "DrgPMduoaL7w"
    },
    {
      "cell_type": "code",
      "execution_count": null,
      "metadata": {
        "id": "R6lfK3aHaL7w"
      },
      "outputs": [],
      "source": [
        "#accounts that tweeted more than 50 tweets\n",
        "tweet=original['Influencer'].value_counts().loc[lambda x: x>30]"
      ],
      "id": "R6lfK3aHaL7w"
    },
    {
      "cell_type": "code",
      "execution_count": null,
      "metadata": {
        "id": "ysS8M11ZaL7x"
      },
      "outputs": [],
      "source": [
        "original.head(5)"
      ],
      "id": "ysS8M11ZaL7x"
    },
    {
      "cell_type": "code",
      "execution_count": null,
      "metadata": {
        "id": "JawtiJg-aL7x",
        "outputId": "cb2b5ada-2580-49ba-a9b3-405dc5117323"
      },
      "outputs": [
        {
          "data": {
            "text/plain": [
              "(2363,)"
            ]
          },
          "execution_count": 78,
          "metadata": {},
          "output_type": "execute_result"
        }
      ],
      "source": [
        "#we have 1415 accounts that tweet more than 50 times\n",
        "tweet.shape"
      ],
      "id": "JawtiJg-aL7x"
    },
    {
      "cell_type": "code",
      "execution_count": null,
      "metadata": {
        "id": "IVZglTFhaL7y",
        "outputId": "659e4a88-465c-4ebc-b701-79c8dac38740"
      },
      "outputs": [
        {
          "data": {
            "text/plain": [
              "218614"
            ]
          },
          "execution_count": 79,
          "metadata": {},
          "output_type": "execute_result"
        }
      ],
      "source": [
        "tweet.sum()"
      ],
      "id": "IVZglTFhaL7y"
    },
    {
      "cell_type": "code",
      "execution_count": null,
      "metadata": {
        "id": "BRiGZReKaL7y",
        "outputId": "d0812bf0-787c-4d4a-90b2-e68e7e2627ad"
      },
      "outputs": [
        {
          "data": {
            "text/plain": [
              "316"
            ]
          },
          "execution_count": 80,
          "metadata": {},
          "output_type": "execute_result"
        }
      ],
      "source": [
        "tweet.nunique()"
      ],
      "id": "BRiGZReKaL7y"
    },
    {
      "cell_type": "code",
      "execution_count": null,
      "metadata": {
        "id": "mk8BgPk2aL7y",
        "outputId": "fece50c7-82de-437f-b5c4-575f38b1a4ac"
      },
      "outputs": [
        {
          "data": {
            "text/plain": [
              "0.6190488326324881"
            ]
          },
          "execution_count": 82,
          "metadata": {},
          "output_type": "execute_result"
        }
      ],
      "source": [
        "# percent of total original tweet network\n",
        "tweet.sum()/original.shape[0]"
      ],
      "id": "mk8BgPk2aL7y"
    },
    {
      "cell_type": "code",
      "execution_count": null,
      "metadata": {
        "id": "P2eSSJGIaL7z",
        "outputId": "a2d3019f-912e-49b4-ebdb-599852a15766"
      },
      "outputs": [
        {
          "data": {
            "text/plain": [
              "0.008692781690140846"
            ]
          },
          "execution_count": 83,
          "metadata": {},
          "output_type": "execute_result"
        }
      ],
      "source": [
        "tweet.nunique()/original['Influencer'].nunique()"
      ],
      "id": "P2eSSJGIaL7z"
    },
    {
      "cell_type": "code",
      "execution_count": null,
      "metadata": {
        "id": "YWEZD4G5aL70"
      },
      "outputs": [],
      "source": [
        "tweet.head(10)"
      ],
      "id": "YWEZD4G5aL70"
    },
    {
      "cell_type": "code",
      "execution_count": null,
      "metadata": {
        "id": "IRdk-ek6aL70"
      },
      "outputs": [],
      "source": [
        "#get quoted tweets\n",
        "Q = data[data['tweet'].str.contains('QT')]"
      ],
      "id": "IRdk-ek6aL70"
    },
    {
      "cell_type": "code",
      "execution_count": null,
      "metadata": {
        "id": "xPlt5YB1aL70",
        "outputId": "54e7397e-1057-4f73-982d-6e1aa2d6bae9"
      },
      "outputs": [
        {
          "data": {
            "text/plain": [
              "(295303, 38)"
            ]
          },
          "execution_count": 15,
          "metadata": {},
          "output_type": "execute_result"
        }
      ],
      "source": [
        "Q.shape"
      ],
      "id": "xPlt5YB1aL70"
    },
    {
      "cell_type": "code",
      "execution_count": null,
      "metadata": {
        "id": "l8_pkD7iaL76",
        "outputId": "a370c027-0904-45df-a69d-9e0950941245"
      },
      "outputs": [
        {
          "data": {
            "text/plain": [
              "52833"
            ]
          },
          "execution_count": 16,
          "metadata": {},
          "output_type": "execute_result"
        }
      ],
      "source": [
        "Q['Influencer'].nunique()"
      ],
      "id": "l8_pkD7iaL76"
    },
    {
      "cell_type": "code",
      "execution_count": null,
      "metadata": {
        "id": "X6Oe0RcPaL76"
      },
      "outputs": [],
      "source": [
        "Q['Influencer'].value_counts()"
      ],
      "id": "X6Oe0RcPaL76"
    },
    {
      "cell_type": "code",
      "execution_count": null,
      "metadata": {
        "id": "R1g9VPYVaL77"
      },
      "outputs": [],
      "source": [
        "quoted=Q['Influencer'].value_counts().loc[lambda x: x>20]\n",
        "quoted"
      ],
      "id": "R1g9VPYVaL77"
    },
    {
      "cell_type": "code",
      "execution_count": null,
      "metadata": {
        "id": "gDXXBjigaL77",
        "outputId": "605fd21a-5350-4db8-9a70-b9542d45fe96"
      },
      "outputs": [
        {
          "data": {
            "text/plain": [
              "167957"
            ]
          },
          "execution_count": 94,
          "metadata": {},
          "output_type": "execute_result"
        }
      ],
      "source": [
        "quoted.sum()"
      ],
      "id": "gDXXBjigaL77"
    },
    {
      "cell_type": "code",
      "execution_count": null,
      "metadata": {
        "id": "Z-VhdqtPaL77",
        "outputId": "34bab53b-4f6a-485c-8b7d-6914b3de5a46"
      },
      "outputs": [
        {
          "data": {
            "text/plain": [
              "250"
            ]
          },
          "execution_count": 98,
          "metadata": {},
          "output_type": "execute_result"
        }
      ],
      "source": [
        "quoted.nunique()"
      ],
      "id": "Z-VhdqtPaL77"
    },
    {
      "cell_type": "code",
      "execution_count": null,
      "metadata": {
        "id": "XP5PlXy4aL78",
        "outputId": "41d532c4-4f36-4265-e794-e1a2f9c85b75"
      },
      "outputs": [
        {
          "data": {
            "text/plain": [
              "0.5687615770920038"
            ]
          },
          "execution_count": 95,
          "metadata": {},
          "output_type": "execute_result"
        }
      ],
      "source": [
        "quoted.sum()/Q.shape[0]"
      ],
      "id": "XP5PlXy4aL78"
    },
    {
      "cell_type": "code",
      "execution_count": null,
      "metadata": {
        "id": "1DlNZVFvaL78",
        "outputId": "e8ce8f2b-261e-4237-f350-ad727dc3b887"
      },
      "outputs": [
        {
          "data": {
            "text/plain": [
              "0.004731891052940397"
            ]
          },
          "execution_count": 96,
          "metadata": {},
          "output_type": "execute_result"
        }
      ],
      "source": [
        "quoted.nunique()/Q['Influencer'].nunique()"
      ],
      "id": "1DlNZVFvaL78"
    },
    {
      "cell_type": "code",
      "execution_count": null,
      "metadata": {
        "id": "uahk2LZjaL7-"
      },
      "outputs": [],
      "source": [
        "quoted.head(10)"
      ],
      "id": "uahk2LZjaL7-"
    },
    {
      "cell_type": "code",
      "execution_count": null,
      "metadata": {
        "id": "FTHaf47eaL7-"
      },
      "outputs": [],
      "source": [
        "#accounts that tweet more than 50 times(Amplifiers of #nomore)\n",
        "#@lilyesha_lilye, @mekdes73819861, @teddyyeneniguss,@mic_tes,@kari_kara15,@amity_araya,@ethiopia_unity1,@yonast98,@ayelgndes are bot account with 100% and 90% bot indication\n",
        "#@abiyfrom,@balesage,@temesgenbishaw,@meru_maj,@emeyenextethiop,@ethan09t,@addisalexander  has 60% and 70%bot indication\n",
        "#@surafeltilahu11,@et_elias_et, @henok_tekeste,@borumeti 30% and 40% bot indication the activity looks normal\n",
        "pd.set_option('display.max_rows', None)\n",
        "tweet.head(84)"
      ],
      "id": "FTHaf47eaL7-"
    },
    {
      "cell_type": "code",
      "execution_count": null,
      "metadata": {
        "id": "8CVyyetNaL8E"
      },
      "outputs": [],
      "source": [],
      "id": "8CVyyetNaL8E"
    }
  ],
  "metadata": {
    "kernelspec": {
      "display_name": "Python 3",
      "language": "python",
      "name": "python3"
    },
    "language_info": {
      "codemirror_mode": {
        "name": "ipython",
        "version": 3
      },
      "file_extension": ".py",
      "mimetype": "text/x-python",
      "name": "python",
      "nbconvert_exporter": "python",
      "pygments_lexer": "ipython3",
      "version": "3.8.5"
    },
    "colab": {
      "provenance": []
    }
  },
  "nbformat": 4,
  "nbformat_minor": 5
}